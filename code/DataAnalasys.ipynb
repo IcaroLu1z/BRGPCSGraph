{
 "cells": [
  {
   "cell_type": "code",
   "execution_count": 3,
   "metadata": {},
   "outputs": [],
   "source": [
    "import pandas as pd\n",
    "import json"
   ]
  },
  {
   "cell_type": "code",
   "execution_count": 2,
   "metadata": {},
   "outputs": [
    {
     "name": "stdout",
     "output_type": "stream",
     "text": [
      "<class 'pandas.core.frame.DataFrame'>\n",
      "RangeIndex: 1514 entries, 0 to 1513\n",
      "Data columns (total 22 columns):\n",
      " #   Column                     Non-Null Count  Dtype \n",
      "---  ------                     --------------  ----- \n",
      " 0   data_year                  1514 non-null   int64 \n",
      " 1   gp_code                    1514 non-null   object\n",
      " 2   gp_name                    1514 non-null   object\n",
      " 3   gp_score                   1514 non-null   int64 \n",
      " 4   institution_id             1514 non-null   object\n",
      " 5   institution_acr            1514 non-null   object\n",
      " 6   author_name                1514 non-null   object\n",
      " 7   phd_year                   1514 non-null   int64 \n",
      " 8   regime_trabalho            1514 non-null   object\n",
      " 9   carga_horaria              1514 non-null   int64 \n",
      " 10  lattes_cv_link             1511 non-null   object\n",
      " 11  author_id                  1507 non-null   object\n",
      " 12  productivity_grant         1510 non-null   object\n",
      " 13  productivity_grant_type    556 non-null    object\n",
      " 14  phd_institution_id         1495 non-null   object\n",
      " 15  phd_institution_name       1511 non-null   object\n",
      " 16  phd_gp_code                969 non-null    object\n",
      " 17  phd_supervisor_id          1482 non-null   object\n",
      " 18  phd_supervisor_name        1509 non-null   object\n",
      " 19  responsavel_por_preencher  1514 non-null   object\n",
      " 20  autor_confiavel            1514 non-null   object\n",
      " 21  orientador_confiavel       1514 non-null   object\n",
      "dtypes: int64(4), object(18)\n",
      "memory usage: 260.3+ KB\n"
     ]
    }
   ],
   "source": [
    "data_authors = pd.read_csv('/media/work/icarovasconcelos/mono/data/authors.csv')\n",
    "data_authors.info()"
   ]
  },
  {
   "cell_type": "code",
   "execution_count": 2,
   "metadata": {},
   "outputs": [],
   "source": [
    "\n",
    "works_file_path = '/media/work/icarovasconcelos/mono/data/raw_works_since_2004.json'\n",
    "with open(works_file_path, 'r') as f:\n",
    "    works_data = json.load(f)\n",
    "\n",
    "#------------------------------------------------------------------------------------------------------------------------------\n",
    "works_and_authors = {}            \n",
    "\n",
    "for work in works_data:\n",
    "    authors_list = []\n",
    "    for authorship in work['authorships']:\n",
    "        if authorship:\n",
    "            author = authorship['author']\n",
    "            author_id = author['id'].split('/')[-1] if author else None\n",
    "            author_name = author['display_name'] if author else None\n",
    "            authors_list.append({\n",
    "                'author_id': author_id,\n",
    "                'author_name': author_name,\n",
    "            })\n",
    "    works_and_authors[work['id'].split('/')[-1]] = authors_list"
   ]
  },
  {
   "cell_type": "code",
   "execution_count": 3,
   "metadata": {},
   "outputs": [
    {
     "name": "stdout",
     "output_type": "stream",
     "text": [
      "W4394058177\n",
      "[{'author_id': 'A9999999999', 'author_name': 'NULL AUTHOR_ID'}, {'author_id': 'A5017524374', 'author_name': 'Jorge Melegati'}, {'author_id': 'A5060903936', 'author_name': 'Igor Wiese'}, {'author_id': 'A5020626372', 'author_name': 'Eduardo Guerra'}, {'author_id': 'A5065097740', 'author_name': 'Rafael Chanin'}, {'author_id': 'A5024379735', 'author_name': 'Abdullah Aldaeej'}, {'author_id': 'A5074223722', 'author_name': 'Tommi Mikkonen'}, {'author_id': 'A5024645888', 'author_name': 'Rafael Prikladnicki'}, {'author_id': 'A5100751838', 'author_name': 'Xiaofeng Wang'}]\n",
      "-----------------------------------------------------------------------------------------------------------------\n",
      "W4394058558\n",
      "[{'author_id': 'A9999999999', 'author_name': 'NULL AUTHOR_ID'}, {'author_id': 'A5017524374', 'author_name': 'Jorge Melegati'}, {'author_id': 'A5060903936', 'author_name': 'Igor Wiese'}, {'author_id': 'A5020626372', 'author_name': 'Eduardo Guerra'}, {'author_id': 'A5065097740', 'author_name': 'Rafael Chanin'}, {'author_id': 'A5024379735', 'author_name': 'Abdullah Aldaeej'}, {'author_id': 'A5074223722', 'author_name': 'Tommi Mikkonen'}, {'author_id': 'A5024645888', 'author_name': 'Rafael Prikladnicki'}, {'author_id': 'A5100751838', 'author_name': 'Xiaofeng Wang'}]\n",
      "-----------------------------------------------------------------------------------------------------------------\n",
      "W4400420896\n",
      "[{'author_id': 'A9999999999', 'author_name': 'NULL AUTHOR_ID'}, {'author_id': 'A9999999999', 'author_name': 'NULL AUTHOR_ID'}, {'author_id': 'A5065655419', 'author_name': 'Júlio Cézar Estrella'}]\n",
      "-----------------------------------------------------------------------------------------------------------------\n",
      "W4249194968\n",
      "[{'author_id': 'A9999999999', 'author_name': 'NULL AUTHOR_ID'}, {'author_id': 'A9999999999', 'author_name': 'NULL AUTHOR_ID'}, {'author_id': 'A9999999999', 'author_name': 'NULL AUTHOR_ID'}, {'author_id': 'A9999999999', 'author_name': 'NULL AUTHOR_ID'}, {'author_id': 'A9999999999', 'author_name': 'NULL AUTHOR_ID'}, {'author_id': 'A5010121241', 'author_name': 'Brent Hailpern'}, {'author_id': 'A9999999999', 'author_name': 'NULL AUTHOR_ID'}, {'author_id': 'A5041470075', 'author_name': 'Stephen Bourne'}, {'author_id': 'A9999999999', 'author_name': 'NULL AUTHOR_ID'}, {'author_id': 'A9999999999', 'author_name': 'NULL AUTHOR_ID'}, {'author_id': 'A9999999999', 'author_name': 'NULL AUTHOR_ID'}, {'author_id': 'A9999999999', 'author_name': 'NULL AUTHOR_ID'}, {'author_id': 'A5015607764', 'author_name': 'Marie‐Paule Cani'}, {'author_id': 'A5007817952', 'author_name': 'Nikil Dutt'}, {'author_id': 'A5044264048', 'author_name': 'Carol Hutchins'}, {'author_id': 'A9999999999', 'author_name': 'NULL AUTHOR_ID'}, {'author_id': 'A5102159441', 'author_name': 'Catherine C. McGeoch'}, {'author_id': 'A9999999999', 'author_name': 'NULL AUTHOR_ID'}, {'author_id': 'A5037200145', 'author_name': 'Marc Najork'}, {'author_id': 'A9999999999', 'author_name': 'NULL AUTHOR_ID'}, {'author_id': 'A5022407047', 'author_name': 'Mei Kobayashi'}, {'author_id': 'A5100150954', 'author_name': 'William'}, {'author_id': 'A9999999999', 'author_name': 'NULL AUTHOR_ID'}, {'author_id': 'A9999999999', 'author_name': 'NULL AUTHOR_ID'}, {'author_id': 'A5102472354', 'author_name': 'Secretary Moore'}, {'author_id': 'A9999999999', 'author_name': 'NULL AUTHOR_ID'}, {'author_id': 'A9999999999', 'author_name': 'NULL AUTHOR_ID'}, {'author_id': 'A5021306015', 'author_name': 'Carlos Lucena'}, {'author_id': 'A5098807587', 'author_name': 'Beng'}, {'author_id': 'A9999999999', 'author_name': 'NULL AUTHOR_ID'}, {'author_id': 'A5054593042', 'author_name': 'Charles Beeler'}, {'author_id': 'A9999999999', 'author_name': 'NULL AUTHOR_ID'}, {'author_id': 'A9999999999', 'author_name': 'NULL AUTHOR_ID'}, {'author_id': 'A9999999999', 'author_name': 'NULL AUTHOR_ID'}, {'author_id': 'A5025911481', 'author_name': 'Kim B. Bruce'}, {'author_id': 'A5057006622', 'author_name': 'Alan Bundy'}, {'author_id': 'A5100150955', 'author_name': 'Buneman Erran'}, {'author_id': 'A9999999999', 'author_name': 'NULL AUTHOR_ID'}, {'author_id': 'A9999999999', 'author_name': 'NULL AUTHOR_ID'}, {'author_id': 'A9999999999', 'author_name': 'NULL AUTHOR_ID'}, {'author_id': 'A5065370018', 'author_name': 'Igor L. Markov'}, {'author_id': 'A9999999999', 'author_name': 'NULL AUTHOR_ID'}, {'author_id': 'A9999999999', 'author_name': 'NULL AUTHOR_ID'}, {'author_id': 'A5029730758', 'author_name': 'Ming Ni'}, {'author_id': 'A9999999999', 'author_name': 'NULL AUTHOR_ID'}, {'author_id': 'A9999999999', 'author_name': 'NULL AUTHOR_ID'}, {'author_id': 'A9999999999', 'author_name': 'NULL AUTHOR_ID'}, {'author_id': 'A9999999999', 'author_name': 'NULL AUTHOR_ID'}, {'author_id': 'A9999999999', 'author_name': 'NULL AUTHOR_ID'}, {'author_id': 'A5100150956', 'author_name': 'Chi-Chih Yao Research'}, {'author_id': 'A9999999999', 'author_name': 'NULL AUTHOR_ID'}, {'author_id': 'A9999999999', 'author_name': 'NULL AUTHOR_ID'}, {'author_id': 'A5100150957', 'author_name': 'Martin Abadi Sanjeev Arora'}, {'author_id': 'A9999999999', 'author_name': 'NULL AUTHOR_ID'}, {'author_id': 'A9999999999', 'author_name': 'NULL AUTHOR_ID'}, {'author_id': 'A5062093738', 'author_name': 'Jon Crowcroft'}, {'author_id': 'A9999999999', 'author_name': 'NULL AUTHOR_ID'}, {'author_id': 'A5100229096', 'author_name': 'Maurice Herlihy Norm Jouppi'}, {'author_id': 'A9999999999', 'author_name': 'NULL AUTHOR_ID'}, {'author_id': 'A5058330133', 'author_name': 'Xavier Leroy'}, {'author_id': 'A5100229097', 'author_name': 'David Salesin Guy Steele'}, {'author_id': 'A9999999999', 'author_name': 'NULL AUTHOR_ID'}, {'author_id': 'A9999999999', 'author_name': 'NULL AUTHOR_ID'}, {'author_id': 'A9999999999', 'author_name': 'NULL AUTHOR_ID'}, {'author_id': 'A9999999999', 'author_name': 'NULL AUTHOR_ID'}, {'author_id': 'A9999999999', 'author_name': 'NULL AUTHOR_ID'}, {'author_id': 'A5082355192', 'author_name': 'Gary Anthes'}, {'author_id': 'A9999999999', 'author_name': 'NULL AUTHOR_ID'}, {'author_id': 'A5013586255', 'author_name': 'Felicity Allen'}, {'author_id': 'A9999999999', 'author_name': 'NULL AUTHOR_ID'}]\n",
      "-----------------------------------------------------------------------------------------------------------------\n",
      "W4400410959\n",
      "[{'author_id': 'A9999999999', 'author_name': 'NULL AUTHOR_ID'}, {'author_id': 'A5037484451', 'author_name': 'Thiago Alves de Queiroz'}, {'author_id': 'A9999999999', 'author_name': 'NULL AUTHOR_ID'}, {'author_id': 'A5086393146', 'author_name': 'André Gustavo dos Santos'}, {'author_id': 'A9999999999', 'author_name': 'NULL AUTHOR_ID'}, {'author_id': 'A9999999999', 'author_name': 'NULL AUTHOR_ID'}]\n",
      "-----------------------------------------------------------------------------------------------------------------\n",
      "W4400410880\n",
      "[{'author_id': 'A9999999999', 'author_name': 'NULL AUTHOR_ID'}, {'author_id': 'A9999999999', 'author_name': 'NULL AUTHOR_ID'}, {'author_id': 'A9999999999', 'author_name': 'NULL AUTHOR_ID'}, {'author_id': 'A5024835217', 'author_name': 'Tiago Thompsen Primo'}]\n",
      "-----------------------------------------------------------------------------------------------------------------\n",
      "W4400411068\n",
      "[{'author_id': 'A9999999999', 'author_name': 'NULL AUTHOR_ID'}, {'author_id': 'A9999999999', 'author_name': 'NULL AUTHOR_ID'}, {'author_id': 'A5075071243', 'author_name': 'Marílton Sanchotene de Aguiar'}, {'author_id': 'A9999999999', 'author_name': 'NULL AUTHOR_ID'}, {'author_id': 'A5056999725', 'author_name': 'João Pedro Lopes'}, {'author_id': 'A5100256117', 'author_name': 'Tiago Duarte Mackedanz'}, {'author_id': 'A9999999999', 'author_name': 'NULL AUTHOR_ID'}, {'author_id': 'A9999999999', 'author_name': 'NULL AUTHOR_ID'}, {'author_id': 'A9999999999', 'author_name': 'NULL AUTHOR_ID'}]\n",
      "-----------------------------------------------------------------------------------------------------------------\n",
      "W4400407366\n",
      "[{'author_id': 'A9999999999', 'author_name': 'NULL AUTHOR_ID'}, {'author_id': 'A5025966561', 'author_name': 'Ecivaldo Matos'}]\n",
      "-----------------------------------------------------------------------------------------------------------------\n",
      "W4251818493\n",
      "[{'author_id': 'A9999999999', 'author_name': 'NULL AUTHOR_ID'}, {'author_id': 'A9999999999', 'author_name': 'NULL AUTHOR_ID'}, {'author_id': 'A9999999999', 'author_name': 'NULL AUTHOR_ID'}, {'author_id': 'A9999999999', 'author_name': 'NULL AUTHOR_ID'}, {'author_id': 'A5100154975', 'author_name': 'Naji Al-Messabi'}, {'author_id': 'A5102006718', 'author_name': 'Shafiq Alam'}, {'author_id': 'A5004231492', 'author_name': 'Alma Y. Alanís'}, {'author_id': 'A9999999999', 'author_name': 'NULL AUTHOR_ID'}, {'author_id': 'A9999999999', 'author_name': 'NULL AUTHOR_ID'}, {'author_id': 'A9999999999', 'author_name': 'NULL AUTHOR_ID'}, {'author_id': 'A9999999999', 'author_name': 'NULL AUTHOR_ID'}, {'author_id': 'A5053613060', 'author_name': 'Adel M. Alimi'}, {'author_id': 'A9999999999', 'author_name': 'NULL AUTHOR_ID'}, {'author_id': 'A5101172952', 'author_name': 'Marwa Ammar'}, {'author_id': 'A9999999999', 'author_name': 'NULL AUTHOR_ID'}, {'author_id': 'A5101887874', 'author_name': 'John Anderson'}, {'author_id': 'A9999999999', 'author_name': 'NULL AUTHOR_ID'}, {'author_id': 'A9999999999', 'author_name': 'NULL AUTHOR_ID'}, {'author_id': 'A5100154970', 'author_name': 'Elli Angelopoulou'}, {'author_id': 'A5020656621', 'author_name': 'Ανδρέας Αντωνιάδης'}, {'author_id': 'A5016050891', 'author_name': 'Anderson Araujo'}, {'author_id': 'A5100230968', 'author_name': 'Tomas Arredondo'}, {'author_id': 'A5052911889', 'author_name': 'Rabia Arshad'}, {'author_id': 'A5100230969', 'author_name': 'Artur Garcez'}, {'author_id': 'A9999999999', 'author_name': 'NULL AUTHOR_ID'}, {'author_id': 'A9999999999', 'author_name': 'NULL AUTHOR_ID'}, {'author_id': 'A9999999999', 'author_name': 'NULL AUTHOR_ID'}, {'author_id': 'A9999999999', 'author_name': 'NULL AUTHOR_ID'}, {'author_id': 'A9999999999', 'author_name': 'NULL AUTHOR_ID'}, {'author_id': 'A9999999999', 'author_name': 'NULL AUTHOR_ID'}, {'author_id': 'A5105921571', 'author_name': 'Ahmad Azar'}, {'author_id': 'A9999999999', 'author_name': 'NULL AUTHOR_ID'}, {'author_id': 'A9999999999', 'author_name': 'NULL AUTHOR_ID'}, {'author_id': 'A5100154971', 'author_name': 'Michael Babikir'}, {'author_id': 'A5100154972', 'author_name': 'Ali Bacciu'}, {'author_id': 'A5100230970', 'author_name': 'Davide Bacek'}, {'author_id': 'A9999999999', 'author_name': 'NULL AUTHOR_ID'}, {'author_id': 'A5082407314', 'author_name': 'Jong Hwa Bae'}, {'author_id': 'A5101363117', 'author_name': 'Lijuan Bai'}, {'author_id': 'A9999999999', 'author_name': 'NULL AUTHOR_ID'}, {'author_id': 'A5100154973', 'author_name': 'Waqar Mirza'}, {'author_id': 'A9999999999', 'author_name': 'NULL AUTHOR_ID'}, {'author_id': 'A9999999999', 'author_name': 'NULL AUTHOR_ID'}, {'author_id': 'A9999999999', 'author_name': 'NULL AUTHOR_ID'}, {'author_id': 'A9999999999', 'author_name': 'NULL AUTHOR_ID'}, {'author_id': 'A5003689393', 'author_name': 'Emilia Barakova'}, {'author_id': 'A5001488612', 'author_name': 'Tom Barker'}, {'author_id': 'A5007194005', 'author_name': 'Michele Barsotti'}, {'author_id': 'A5100154974', 'author_name': 'Luca Bascetta'}, {'author_id': 'A9999999999', 'author_name': 'NULL AUTHOR_ID'}, {'author_id': 'A9999999999', 'author_name': 'NULL AUTHOR_ID'}, {'author_id': 'A5043375178', 'author_name': 'Juri Belikov'}, {'author_id': 'A5056670558', 'author_name': 'Peter A. Beling'}, {'author_id': 'A9999999999', 'author_name': 'NULL AUTHOR_ID'}, {'author_id': 'A5035960280', 'author_name': 'A. Medina Herrera'}, {'author_id': 'A9999999999', 'author_name': 'NULL AUTHOR_ID'}, {'author_id': 'A5100230971', 'author_name': 'Peter Benes'}, {'author_id': 'A9999999999', 'author_name': 'NULL AUTHOR_ID'}, {'author_id': 'A9999999999', 'author_name': 'NULL AUTHOR_ID'}, {'author_id': 'A9999999999', 'author_name': 'NULL AUTHOR_ID'}, {'author_id': 'A5064440897', 'author_name': 'Mariella Berger'}, {'author_id': 'A5100154976', 'author_name': 'Joao Bertini'}, {'author_id': 'A9999999999', 'author_name': 'NULL AUTHOR_ID'}, {'author_id': 'A9999999999', 'author_name': 'NULL AUTHOR_ID'}, {'author_id': 'A9999999999', 'author_name': 'NULL AUTHOR_ID'}, {'author_id': 'A9999999999', 'author_name': 'NULL AUTHOR_ID'}, {'author_id': 'A5104068232', 'author_name': 'Filippo Bianchi'}, {'author_id': 'A5100154977', 'author_name': 'Andre Bianconi'}, {'author_id': 'A5055770362', 'author_name': 'Haris Bilal'}, {'author_id': 'A9999999999', 'author_name': 'NULL AUTHOR_ID'}, {'author_id': 'A5100154978', 'author_name': 'Rodrigo Bloot'}, {'author_id': 'A9999999999', 'author_name': 'NULL AUTHOR_ID'}, {'author_id': 'A9999999999', 'author_name': 'NULL AUTHOR_ID'}, {'author_id': 'A5032713426', 'author_name': 'Fabio Bonsignorio'}, {'author_id': 'A9999999999', 'author_name': 'NULL AUTHOR_ID'}, {'author_id': 'A5104068233', 'author_name': 'Brito Da Silva'}, {'author_id': 'A9999999999', 'author_name': 'NULL AUTHOR_ID'}, {'author_id': 'A9999999999', 'author_name': 'NULL AUTHOR_ID'}, {'author_id': 'A9999999999', 'author_name': 'NULL AUTHOR_ID'}, {'author_id': 'A5058770707', 'author_name': 'Domenico Buongiorno'}, {'author_id': 'A5102453268', 'author_name': 'Andrea Burattin'}, {'author_id': 'A9999999999', 'author_name': 'NULL AUTHOR_ID'}, {'author_id': 'A9999999999', 'author_name': 'NULL AUTHOR_ID'}, {'author_id': 'A5020058895', 'author_name': 'Catherine Cadet'}, {'author_id': 'A9999999999', 'author_name': 'NULL AUTHOR_ID'}, {'author_id': 'A9999999999', 'author_name': 'NULL AUTHOR_ID'}, {'author_id': 'A9999999999', 'author_name': 'NULL AUTHOR_ID'}, {'author_id': 'A5019144108', 'author_name': 'Anne M. P. Canuto'}, {'author_id': 'A5102475359', 'author_name': 'Jianting Cao'}, {'author_id': 'A9999999999', 'author_name': 'NULL AUTHOR_ID'}, {'author_id': 'A5100154979', 'author_name': 'Elisa Capecci'}, {'author_id': 'A9999999999', 'author_name': 'NULL AUTHOR_ID'}, {'author_id': 'A5013827007', 'author_name': 'Jaime S. Cardoso'}, {'author_id': 'A5039204735', 'author_name': 'Luís Fernando Martins'}, {'author_id': 'A5072421430', 'author_name': 'Rocío Carrasco-Navarro'}, {'author_id': 'A5040725454', 'author_name': 'André Carvalho'}, {'author_id': 'A5031619215', 'author_name': 'Ricardo Castro'}, {'author_id': 'A9999999999', 'author_name': 'NULL AUTHOR_ID'}, {'author_id': 'A9999999999', 'author_name': 'NULL AUTHOR_ID'}, {'author_id': 'A5069853880', 'author_name': 'Stefania Cecchi'}]\n",
      "-----------------------------------------------------------------------------------------------------------------\n",
      "W4400410995\n",
      "[{'author_id': 'A9999999999', 'author_name': 'NULL AUTHOR_ID'}, {'author_id': 'A5010769668', 'author_name': 'Fabrício Olivetti de França'}, {'author_id': 'A5053452496', 'author_name': 'Konstantin Malanchev'}, {'author_id': 'A9999999999', 'author_name': 'NULL AUTHOR_ID'}, {'author_id': 'A9999999999', 'author_name': 'NULL AUTHOR_ID'}, {'author_id': 'A9999999999', 'author_name': 'NULL AUTHOR_ID'}, {'author_id': 'A9999999999', 'author_name': 'NULL AUTHOR_ID'}, {'author_id': 'A9999999999', 'author_name': 'NULL AUTHOR_ID'}, {'author_id': 'A5036673672', 'author_name': 'É. Gangler'}]\n",
      "-----------------------------------------------------------------------------------------------------------------\n",
      "W4400412323\n",
      "[{'author_id': 'A9999999999', 'author_name': 'NULL AUTHOR_ID'}, {'author_id': 'A9999999999', 'author_name': 'NULL AUTHOR_ID'}, {'author_id': 'A9999999999', 'author_name': 'NULL AUTHOR_ID'}, {'author_id': 'A5051958513', 'author_name': 'Fábio A. M. Cappabianco'}]\n",
      "-----------------------------------------------------------------------------------------------------------------\n",
      "W4400407350\n",
      "[{'author_id': 'A9999999999', 'author_name': 'NULL AUTHOR_ID'}, {'author_id': 'A5100255885', 'author_name': 'Henrique Canella Mandelli'}, {'author_id': 'A5057530896', 'author_name': 'Vinícius H. S. Durelli'}, {'author_id': 'A5066730740', 'author_name': 'Paulo Augusto Nardi'}, {'author_id': 'A9999999999', 'author_name': 'NULL AUTHOR_ID'}]\n",
      "-----------------------------------------------------------------------------------------------------------------\n",
      "W4394303617\n",
      "[{'author_id': 'A9999999999', 'author_name': 'NULL AUTHOR_ID'}, {'author_id': 'A5015529589', 'author_name': 'Gleison Santos'}]\n",
      "-----------------------------------------------------------------------------------------------------------------\n",
      "W4400405823\n",
      "[{'author_id': 'A9999999999', 'author_name': 'NULL AUTHOR_ID'}, {'author_id': 'A5073475557', 'author_name': 'Isaac P. Santos'}]\n",
      "-----------------------------------------------------------------------------------------------------------------\n",
      "W4400420760\n",
      "[{'author_id': 'A5080212342', 'author_name': 'Raimir Holanda Filho'}, {'author_id': 'A9999999999', 'author_name': 'NULL AUTHOR_ID'}, {'author_id': 'A9999999999', 'author_name': 'NULL AUTHOR_ID'}, {'author_id': 'A5100205260', 'author_name': 'Pedro Alexsander Cavaignac Klemensov'}, {'author_id': 'A5102702701', 'author_name': 'Lucas Soares de Oliveira'}]\n",
      "-----------------------------------------------------------------------------------------------------------------\n",
      "W4400412359\n",
      "[{'author_id': 'A9999999999', 'author_name': 'NULL AUTHOR_ID'}, {'author_id': 'A9999999999', 'author_name': 'NULL AUTHOR_ID'}, {'author_id': 'A5040638379', 'author_name': 'Renato Tinós'}, {'author_id': 'A9999999999', 'author_name': 'NULL AUTHOR_ID'}]\n",
      "-----------------------------------------------------------------------------------------------------------------\n",
      "W4400419832\n",
      "[{'author_id': 'A9999999999', 'author_name': 'NULL AUTHOR_ID'}, {'author_id': 'A5012718829', 'author_name': 'Louise Pellegrino Gomes Esporcatte'}, {'author_id': 'A5018444174', 'author_name': 'Karolyna Andrade de Carvalho'}, {'author_id': 'A5061539487', 'author_name': 'Marcella Q. Salomão'}, {'author_id': 'A9999999999', 'author_name': 'NULL AUTHOR_ID'}, {'author_id': 'A5062542741', 'author_name': 'Bernardo T. Lopes'}, {'author_id': 'A5040594506', 'author_name': 'Aydano Pamponet Machado'}, {'author_id': 'A5085929501', 'author_name': 'Sebastian Marschall'}]\n",
      "-----------------------------------------------------------------------------------------------------------------\n"
     ]
    }
   ],
   "source": [
    "for work, authors in works_and_authors.items():\n",
    "    for author in authors:\n",
    "        if author['author_id'] == 'A9999999999':\n",
    "            print(work)\n",
    "            print(authors)\n",
    "            print('-----------------------------------------------------------------------------------------------------------------')\n",
    "            break"
   ]
  },
  {
   "cell_type": "code",
   "execution_count": 1,
   "metadata": {},
   "outputs": [
    {
     "name": "stdout",
     "output_type": "stream",
     "text": [
      "inf\n"
     ]
    }
   ],
   "source": [
    "import math\n",
    "print(math.inf)"
   ]
  },
  {
   "cell_type": "code",
   "execution_count": 4,
   "metadata": {},
   "outputs": [],
   "source": [
    "authors_data = pd.read_csv('/media/work/icarovasconcelos/mono/data/authors-processed.csv')\n",
    "\n",
    "ppgcc_subgraph = []\n",
    "\n",
    "for author_id in authors_data['author_id']:\n",
    "    ppgcc_subgraph.append(author_id)"
   ]
  },
  {
   "cell_type": "code",
   "execution_count": 7,
   "metadata": {},
   "outputs": [
    {
     "name": "stdout",
     "output_type": "stream",
     "text": [
      "['A5009859711', 'A5059434669', 'A5014651524', 'A5039629929', 'A5024645888', 'A5037986871', 'A5072149252', 'A5039610148', 'A5079270282', 'A5076792297', 'A5006120617', 'A5003030193', 'A5025418231', 'A5073632183', 'A5048898582', 'A5019215692', 'A5086071233', 'A5079404294', 'A5071130875', 'A5048124867', 'A5067282272', 'A5016339262', 'A5037408511', 'A5034599262', 'A5046426137', 'A5083541706', 'A5089074775', 'A5090563366', 'A5058220093', 'A5088943723', 'A5091234084', 'A5054264208', 'A5039060913', 'A5020629420', 'A5086717490', 'A5026741733', 'A5044675588', 'A5077022059', 'A5074621925', 'A5065873350', 'A5079892822', 'A5062358729', 'A5043117164', 'A5038112285', 'A5085771550', 'A5020976385', 'A5021011013', 'A5069321002', 'A5010935451', 'A5034194139', 'A5074093456', 'A5020647444', 'A5046167370', 'A5036500408', 'A5066798979', 'A5029235009', 'A5072415351', 'A5059279422', 'A5030266199', 'A5064852217', 'A5058155284', 'A5016118103', 'A5040510907', 'A5008036042', 'A5012702448', 'A5012781859', 'A5089928220', 'A5085144598', 'A5074265846', 'A5023690641', 'A5078952423', 'A5065397615', 'A5009093164', 'A5048925954', 'A5029725483', 'A5028225369', 'A5063087148', 'A5088173365', 'A5042140271', 'A5019008916', 'A5057680257', 'A5039253759', 'A5077598713', 'A5036752449', 'A5080024357', 'A5024273591', 'A5072743877', 'A5039387826', 'A5023191435', 'A5000356136', 'A5079620580', 'A5090424349', 'A5091197122', 'A5036130363', 'A5025642074', 'A5081590498', 'A5010305048', 'A5001511641', 'A5049169709', 'A5002484344', 'A5021027388', 'A5066663156', 'A5065725754', 'A5034874196', 'A5067675731', 'A5040576989', 'A5059488979', 'A5011531387', 'A5036160387', 'A5040178299', 'A5062676037', 'A5024361328', 'A5005416520', 'A5011810058', 'A5040866580', 'A5078032670', 'A5035107721', 'A5006955867', 'A5015267493', 'A5047908747', 'A5036447409', 'A5062734796', 'A5036475121', 'A5073365814', 'A5020158687', 'A5006855037', 'A5088766636', 'A5059202822', 'A5026506271', 'A5089891618', 'A5066927815', 'A5066338145', 'A5061636583', 'A5085964688', 'A5074034939', 'A5020612681', 'A5050389250', 'A5074213486', 'A5019242432', 'A5029845097', 'A5086790392', 'A5076225820', 'A5014662344', 'A5054251380', 'A5042377165', 'A5089721393', 'A5091083068', 'A5011424640', 'A5011099376', 'A5036563088', 'A5021845040', 'A5065655419', 'A5004085192', 'A5012165860', 'A5027973658', 'A5047073710', 'A5023928945', 'A5018666235', 'A5080077203', 'A5061851539', 'A5046850115', 'A5075588234', 'A5001800899', 'A5051850325', 'A5071584113', 'A5046379649', 'A5047167568', 'A5005135246', 'A5074263397', 'A5047424364', 'A5036767529', 'A5037695680', 'A5059121397', 'A5075052095', 'A5079499583', 'A5071993604', 'A5084551356', 'A5014783020', 'A5069205282', 'A5074756110', 'A5044741265', 'A5063198522', 'A5009951012', 'A5009552803', 'A5070339603', 'A5020200827', 'A5032052316', 'A5025385531', 'A5036374454', 'A5009808819', 'A5018179311', 'A5022315746', 'A5069672238', 'A5062469450', 'A5023882015', 'A5023995796', 'A5014660689', 'A5067195269', 'A5035882771', 'A5072201007', 'A5020539818', 'A5046095864', 'A5004181940', 'A5015111328', 'A5042319431', 'A5046370637', 'A5006043519', 'A5015631367', 'A5073879771', 'A5048343366', 'A5053400300', 'A5084044470', 'A5056749044', 'A5060613648', 'A5072908989', 'A5014926009', 'A5059021718', 'A5000310752', 'A5009911024', 'A5045217822', 'A5045643526', 'A5076465098', 'A5053384282', 'A5065749624', 'A5078149140', 'A5021014847', 'A5085054435', 'A5002613601', 'A5034625297', 'A5074933369', 'A5036544899', 'A5052456714', 'A5022387438', 'A5045834209', 'A5000711377', 'A5042861247', 'A5076640892', 'A5018396266', 'A5044506720', 'A5037898474', 'A5014333403', 'A5087423805', 'A5045978751', 'A5045607351', 'A5086714399', 'A5056840424', 'A5009386864', 'A5027812149', 'A5085416987', 'A5047247399', 'A5059175907', 'A5065765043', 'A5010337015', 'A5030809276', 'A5091196390', 'A5077506036', 'A5026106169', 'A5051931293', 'A5000881869', 'A5091129860', 'A5073527139', 'A5021306015', 'A5031607530', 'A5007792821', 'A5044305127', 'A5080706511', 'A5049248004', 'A5064303324', 'A5064696159', 'A5014243558', 'A5033746194', 'A5058318838', 'A5077131228', 'A5035781389', 'A5026754999', 'A5056015440', 'A5091887801', 'A5001777222', 'A5082156730', 'A5067031228', 'A5079462879', 'A5042909836', 'A5012291023', 'A5065879917', 'A5074689274', 'A5066767589', 'A5022434209', 'A5010401729', 'A5082406914', 'A5082628103', 'A5084620248', 'A5022962043', 'A5067239900', 'A5015068551', 'A5032868379', 'A5029900948', 'A5058137654', 'A5061369498', 'A5086393146', 'A5004401466', 'A5012491524', 'A5022457755', 'A5025550530', 'A5076845256', 'A5003805293', 'A5071318718', 'A5029015672', 'A5084128763', 'A5025683089', 'A5030092387', 'A5043194913', 'A5083998049', 'A5042588839', 'A5056928312', 'A5042210961', 'A5028640369', 'A5068278408', 'A5021910438', 'A5049204941', 'A5073460644', 'A5041036885', 'A5073107349', 'A5022792853', 'A5015736964', 'A5020353093', 'A5000683692', 'A5061752509', 'A5022386286', 'A5006653128', 'A5021505451', 'A5042005232', 'A5026724035', 'A5079875528', 'A5088208092', 'A5022901220', 'A5064136920', 'A5053972531', 'A5021048068', 'A5083952644', 'A5054753630', 'A5085225721', 'A5052665135', 'A5089260466', 'A5003582635', 'A5086585741', 'A5037826703', 'A5031528145', 'A5024297894', 'A5059245199', 'A5014967408', 'A5078125093', 'A5083660321', 'A5086345001', 'A5006734190', 'A5076072634', 'A5051034404', 'A5064360478', 'A5041930802', 'A5061878202', 'A5026301882', 'A5006349492', 'A5090740684', 'A5054131342', 'A5074182733', 'A5011713301', 'A5007892716', 'A5083100474', 'A5039511096', 'A5056806480', 'A5036126588', 'A5032393345', 'A5027198239', 'A5044844342', 'A5068706845', 'A5064483605', 'A5025180310', 'A5012320652', 'A5028233772', 'A5004821805', 'A5017981792', 'A5022151325', 'A5086055754', 'A5038884704', 'A5043484069', 'A5081664781', 'A5077179679', 'A5063477795', 'A5022186693', 'A5007234395', 'A5062054732', 'A5052547062', 'A5042177620', 'A5029791096', 'A5069121883', 'A5033489756', 'A5015233908', 'A5060947874', 'A5015742012', 'A5049431434', 'A5007123533', 'A5057225338', 'A5059851424', 'A5043658758', 'A5020197778', 'A5054139790', 'A5025621521', 'A5064718420', 'A5046774469', 'A5001183500', 'A5090955523', 'A5006191190', 'A5031456220', 'A5030203528', 'A5011625832', 'A5022090118', 'A5024395125', 'A5016296702', 'A5000414724', 'A5070668357', 'A5066467437', 'A5069908689', 'A5008405795', 'A5088040268', 'A5029197755', 'A5069259459', 'A5087290455', 'A5063271727', 'A5067928085', 'A5012278873', 'A5091099966', 'A5067767544', 'A5083542230', 'A5042802398', 'A5032097589', 'A5013207221', 'A5006573368', 'A5045742088', 'A5077019769', 'A5090152616', 'A5039534570', 'A5084213737', 'A5036855105', 'A5047729290', 'A5064359701', 'A5030111854', 'A5053067564', 'A5049830796', 'A5016430153', 'A5027726692', 'A5035588233', 'A5061658963', 'A5071494175', 'A5035901146', 'A5063304494', 'A5000885442', 'A5003283053', 'A5067336825', 'A5004467652', 'A5072581721', 'A5016712083', 'A5072390886', 'A5003169900', 'A5073335805', 'A5086587743', 'A5057392530', 'A5067975027', 'A5017693414', 'A5050375330', 'A5050455034', 'A5032142322', 'A5066716326', 'A5004365290', 'A5091674848', 'A5038401155', 'A5047517909', 'A5019032654', 'A5045549996', 'A5057541548', 'A5041210740', 'A5055534532', 'A5011819011', 'A5046617964', 'A5003971616', 'A5057689302', 'A5069052519', 'A5017074646', 'A5071457126', 'A5061160251', 'A5029548136', 'A5071900519', 'A5041522968', 'A5033286636', 'A5039255865', 'A5015781017', 'A5077529784', 'A5004818827', 'A5009797190', 'A5035221043', 'A5028997342', 'A5038044293', 'A5028684332', 'A5076202462', 'A5043349145', 'A5019378528', 'A5044603981', 'A5022286166', 'A5022483402', 'A5043206848', 'A5054089208', 'A5071276748', 'A5070126615', 'A5079832994', 'A5044470498', 'A5005571024', 'A5004008927', 'A5065426559', 'A5039374886', 'A5078484174', 'A5016160620', 'A5000905065', 'A5065042284', 'A5070055601', 'A5087625675', 'A5083802793', 'A5073750345', 'A5031701924', 'A5005717412', 'A5008805433', 'A5041275394', 'A5062266438', 'A5027303526', 'A5020661409', 'A5001451422', 'A5072791484', 'A5000440246', 'A5070996471', 'A5024617531', 'A5010001207', 'A5068904124', 'A5024835217', 'A5082526740', 'A5044019379', 'A5039538346', 'A5075071243', 'A5081630912', 'A5070735330', 'A5086758955', 'A5014303947', 'A5024570296', 'A5068796829', 'A5014304350', 'A5010713340', 'A5057414253', 'A5039149327', 'A5035253687', 'A5081639170', 'A5043726349', 'A5040868513', 'A5039242227', 'A5044338780', 'A5055039917', 'A5058153111', 'A5077019878', 'A5030056745', 'A5090517396', 'A5091754579', 'A5018384192', 'A5033216070', 'A5045089951', 'A5054834050', 'A5038857570', 'A5090445872', 'A5065258075', 'A5028834609', 'A5080870100', 'A5016825373', 'A5031876686', 'A5067412121', 'A5038869659', 'A5039916641', 'A5067873815', 'A5004153371', 'A5005147996', 'A5039939103', 'A5060256663', 'A5008799936', 'A5071288743', 'A5035426257', 'A5089479540', 'A5061101324', 'A5082099991', 'A5088179577', 'A5066070919', 'A5090824208', 'A5073025551', 'A5021057873', 'A5072629853', 'A5066944806', 'A5004587880', 'A5070893483', 'A5076042738', 'A5027699113', 'A5066866262', 'A5016919481', 'A5005271137', 'A5038999508', 'A5005806553', 'A506769335', 'A5091528579', 'A5081258813', 'A5002302742', 'A5089568142', 'A5054939377', 'A5058580588', 'A5037198516', 'A5062799297', 'A5027853752', 'A5048540696', 'A5057336762', 'A5063761460', 'A5081840975', 'A5076528057', 'A5004728332', 'A5091725560', 'A5067908573', 'A5044596103', 'A5011106483', 'A5058053632', 'A5023524797', 'A5027728068', 'A5085041285', 'A5061049872', 'A5055102966', 'A5067556320', 'A5069707894', 'A5006915301', 'A5061250123', 'A5011988914', 'A5015111666', 'A5015475283', 'A5076119699', 'A5040077481', 'A5011076740', 'A5048116739', 'A5066354978', 'A5042028888', 'A5023601116', 'A5066394718', 'A5012462911', 'A5038288410', 'A5033849591', 'A5041666139', 'A5009825422', 'A5008796162', 'A5007024554', 'A5060964388', 'A5010173851', 'A5050683191', 'A5008274219', 'A5052995018', 'A5081787060', 'A5014315681', 'A5078508101', 'A5072385058', 'A5061596292', 'A5016168980', 'A5005099402', 'A5042178956', 'A5022034656', 'A5044390168', 'A5043350656', 'A5044627177', 'A5045959902', 'A5060282303', 'A5015019892', 'A5000150014', 'A5059303843', 'A5061907366', 'A5054881342', 'A5085289673', 'A5079357080', 'A5026147454', 'A5000123273', 'A5025579659', 'A5056386972', 'A5023900780', 'A5014882978', 'A5060475953', 'A5005556016', 'A5003668568', 'A5060855446', 'A5061598660', 'A5035579644', 'A5084001708', 'A5055793778', 'A5025966561', 'A5076741848', 'A5002539501', 'A5039530559', 'A5073005990', 'A5021392896', 'A5042551015', 'A5004806698', 'A5028297610', 'A5008197317', 'A5064571846', 'A5026726377', 'A5030975190', 'A5057209426', 'A5065908206', 'A5044053371', 'A5064179916', 'A5052177168', 'A5033111709', 'A5091302024', 'A5016321740', 'A5018249264', 'A5005461892', 'A5013517292', 'A5010722551', 'A5079774217', 'A5010971396', 'A5064247864', 'A5080777193', 'A5023552576', 'A5028539906', 'A5059024357', 'A5004002970', 'A5048890204', 'A5019144108', 'A5040702221', 'A5062691145', 'A5056899055', 'A5073755393', 'A5015249016', 'A5028095132', 'A5030657599', 'A5089339049', 'A5059491225', 'A5028264358', 'A5069329136', 'A5054272226', 'A5044440065', 'A5031506596', 'A5065118727', 'A5005980339', 'A5060534675', 'A5052845845', 'A5084108984', 'A5064422885', 'A5071385431', 'A5008630507', 'A5064168156', 'A5008062896', 'A5026909161', 'A5009178588', 'A5083485444', 'A5026144093', 'A5020213109', 'A5066509469', 'A5078371698', 'A5039054328', 'A5051693015', 'A5016508154', 'A5061019167', 'A5069738501', 'A5052758924', 'A5029447124', 'A5064508238', 'A5007342857', 'A5038895435', 'A5065403588', 'A5086910523', 'A5052139976', 'A5024230927', 'A5033070469', 'A5069576903', 'A5045602593', 'A5024659734', 'A5070350214', 'A5017640974', 'A5065202820', 'A5004491982', 'A5041771155', 'A5074601290', 'A5002427825', 'A5006024081', 'A5034540373', 'A5004525104', 'A5071689195', 'A5049367321', 'A5001121280', 'A5036449589', 'A5039357068', 'A5021522319', 'A5023472150', 'A5000198300', 'A5089939358', 'A5067840455', 'A5090866687', 'A5080739504', 'A5037853883', 'A5038260547', 'A5017880637', 'A5049004680', 'A5064178531', 'A5047727871', 'A5042190945', 'A5030562453', 'A5063044733', 'A5024318583', 'A5074834419', 'A5034745689', 'A5073102002', 'A5029158906', 'A5091126039', 'A5028026699', 'A5072982737', 'A5030952038', 'A5081761211', 'A5061905874', 'A5086583366', 'A5071442529', 'A5029568844', 'A5075932583', 'A5003107828', 'A5018281569', 'A5062131940', 'A5022041352', 'A5086333993', 'A5033482780', 'A5053196020', 'A5022136971', 'A5074958270', 'A5028966173', 'A5025398101', 'A5022197211', 'A5068664163', 'A5017129895', 'A5062304678', 'A5057454053', 'A5023428422', 'A5064834287', 'A5007786013', 'A5063712781', 'A5025905549', 'A5016608746', 'A5054181662', 'A5064408229', 'A5036904939', 'A5031102526', 'A5071906708', 'A5041210276', 'A5070790370', 'A5053696892', 'A5047055780', 'A5083921214', 'A5087848415', 'A5005385859', 'A5077382160', 'A5071393200', 'A5017165111', 'A5068995385', 'A5002078182', 'A5058886407', 'A5067851246', 'A5041303978', 'A5039734789', 'A5009637128', 'A5016301938', 'A5069237044', 'A5021632022', 'A5006992542', 'A5056640453', 'A5066709938', 'A5062059234', 'A5074854183', 'A5016602634', 'A5071233329', 'A5018777813', 'A5063716962', 'A5034960936', 'A5063808223', 'A5078934461', 'A5065759394', 'A5088452872', 'A5011873799', 'A5066327240', 'A5029339072', 'A5076819061', 'A5051321757', 'A5027892921', 'A5061887000', 'A5005717519', 'A5012679482', 'A5032725260', 'A5050919968', 'A5011646984', 'A5035100528', 'A5059881766', 'A5078934974', 'A5043489809', 'A5006520649', 'A5044367070', 'A5042530175', 'A5088686978', 'A5010769668', 'A5044699241', 'A5020321055', 'A5037531773', 'A5063873307', 'A5091433891', 'A5031920560', 'A5071200361', 'A5025474139', 'A5101944025', 'A5052742553', 'A5007644847', 'A5037835295', 'A5076854781', 'A5041084845', 'A5090283789', 'A5078838133', 'A5079991821', 'A5077468936', 'A5044916678', 'A5051958513', 'A5084132882', 'A5014380829', 'A5083081160', 'A5079706869', 'A5004964195', 'A5075154234', 'A5036696970', 'A5011491054', 'A5077785532', 'A5030304559', 'A5080455155', 'A5082436488', 'A5014293957', 'A5056328000', 'A5056545783', 'A5019832813', 'A5068474382', 'A5003275797', 'A5000520762', 'A5033912438', 'A5043241009', 'A5034280253', 'A5045456527', 'A5032021135', 'A5078511671', 'A5070832881', 'A5073516865', 'A5021585095', 'A5013165228', 'A5000733584', 'A5036998229', 'A5028653462', 'A5029815617', 'A5056299555', 'A5019803207', 'A5051844152', 'A5062454127', 'A5020521912', 'A5024094001', 'A5009024057', 'A5026913424', 'A5082580140', 'A5080238381', 'A5025610062', 'A5017467259', 'A5078080396', 'A5054257245', 'A5053158942', 'A5049262046', 'A5030763025', 'A5043984374', 'A5057530896', 'A5003799524', 'A5008208984', 'A5026665458', 'A5087565388', 'A5037736061', 'A5015109379', 'A5037756038', 'A5072495733', 'A5018907173', 'A5037191631', 'A5049027282', 'A5017370248', 'A5076321844', 'A5035002611', 'A5005368207', 'A5070629635', 'A5089269047', 'A5024617587', 'A5056686523', 'A5089927084', 'A5047557288', 'A5079249940', 'A5002317261', 'A5048437524', 'A5045477765', 'A5027015115', 'A5004442899', 'A5038412730', 'A5051042863', 'A5069608534', 'A5047710320', 'A5048826966', 'A5022098433', 'A5053007608', 'A5047339569', 'A5009613609', 'A5015567019', 'A5086761778', 'A5064252585', 'A5054304691', 'A5014397473', 'A5068813665', 'A5038101088', 'A5071908385', 'A5007126194', 'A5092184083', 'A5028036865', 'A5020812248', 'A5064754225', 'A5000229744', 'A5064768482', 'A5008408638', 'A5063050171', 'A5010069811', 'A5073203242', 'A5065763808', 'A5021817826', 'A5016370549', 'A5090596227', 'A5070224233', 'A5077142904', 'A5036378111', 'A5048750231', 'A5068177643', 'A5081113563', 'A5029149702', 'A5050807002', 'A5016206479', 'A5013629592', 'A5007200973', 'A5023428356', 'A5087367877', 'A5057436676', 'A5006530614', 'A5003692344', 'A5057598838', 'A5028589545', 'A5030983360', 'A5015529589', 'A5026830711', 'A5087835697', 'A5068392626', 'A5049777551', 'A5033400339', 'A5083864895', 'A5068310714', 'A5036209534', 'A5066484485', 'A5013698053', 'A5028595401', 'A5031700435', 'A5021095483', 'A5008021798', 'A5086365102', 'A5041466653', 'A5072038594', 'A5086893396', 'A5070925430', 'A5057699032', 'A5004984970', 'A5080331598', 'A5010847029', 'A5091878564', 'A5034604991', 'A5010147952', 'A5079979801', 'A5018531604', 'A5021528340', 'A5023635796', 'A5057053766', 'A5024303822', 'A5002706357', 'A5037893575', 'A5024990733', 'A5015026639', 'A5027468858', 'A5019252821', 'A5051725468', 'A5029782221', 'A5075984776', 'A5073475557', 'A5080975003', 'A5065297243', 'A5007198974', 'A5035132409', 'A5056260430', 'A5043330192', 'A5047671585', 'A5074912254', 'A5005735333', 'A5045562918', 'A5079449019', 'A5037353382', 'A5077974457', 'A5064643268', 'A5037646813', 'A5029164446', 'A5045931243', 'A5081980820', 'A5057955805', 'A5047587340', 'A5001878987', 'A5028876161', 'A5089260373', 'A5049490188', 'A5059739611', 'A5010326271', 'A5059200840', 'A5079860321', 'A5016432461', 'A5075988425', 'A5054419161', 'A5064424773', 'A5020218663', 'A5026643238', 'A5040096934', 'A5084714260', 'A5013948773', 'A5088179041', 'A5031124772', 'A5065357514', 'A5103570688', 'A5064017308', 'A5089461965', 'A5012728787', 'A5082236288', 'A5011498557', 'A5076437146', 'A5051535737', 'A5014089609', 'A5038249802', 'A5101453758', 'A5008141859', 'A5054260780', 'A5040826420', 'A5003849558', 'A5040330943', 'A5042203211', 'A5064505240', 'A5083080020', 'A5061306912', 'A5008480636', 'A5076526864', 'A5008561344', 'A5051878482', 'A5011488215', 'A5013906184', 'A5021436388', 'A5042400654', 'A5064704822', 'A5007526305', 'A5023688359', 'A5051179991', 'A5085336152', 'A5073203752', 'A5005993144', 'A5086775917', 'A5081680179', 'A5051602253', 'A5049651824', 'A5072089115', 'A5036523820', 'A5078260532', 'A5061175565', 'A5044958577', 'A5076431923', 'A5035348028', 'A5047355770', 'A5041872458', 'A5087497556', 'A5040712742', 'A5069324385', 'A5015887458', 'A5047158316', 'A5071945694', 'A5081501654', 'A5019321164', 'A5077583417', 'A5024686853', 'A5014075245', 'A5070950531', 'A5028426135', 'A5003902365', 'A5030025117', 'A5078590936', 'A5060819574', 'A5034124381', 'A5083131723', 'A5033048195', 'A5080212342', 'A5014786069', 'A5078185249', 'A5019969483', 'A5009334491', 'A5068783649', 'A5014985439', 'A5090221499', 'A5085191475', 'A5084611596', 'A5043322581', 'A5023000801', 'A5052544532', 'A5028793428', 'A5005236232', 'A5061370797', 'A5040377428', 'A5073250710', 'A5005449222', 'A5000191894', 'A5080600223', 'A5063611352', 'A5041515086', 'A5065507627', 'A5022311934', 'A5090424905', 'A5022206003', 'A5069029497', 'A5063310430', 'A5088021525', 'A5069801611', 'A5077485474', 'A5040373538', 'A5062581981', 'A5014606436', 'A5059424896', 'A5006289694', 'A5018202947', 'A5007102478', 'A5032910388', 'A5038283396', 'A5006403799', 'A5057598901', 'A5070350823', 'A5053684018', 'A5014448875', 'A5049640992', 'A5040082886', 'A5069495351', 'A5016773140', 'A5057166232', 'A5057716015', 'A5054702557', 'A5009192355', 'A5001819817', 'A5014195828', 'A5055527543', 'A5070681790', 'A5045834292', 'A5027750704', 'A5087533659', 'A5086639283', 'A5089385245', 'A5019004984', 'A5033139125', 'A5028946870', 'A5061719832', 'A5027315147', 'A5028195632', 'A5012910826', 'A5046387349', 'A5015907194', 'A5023071065', 'A5058779873', 'A5073029772', 'A5076389507', 'A5077177787', 'A5020071482', 'A5083559827', 'A5068426649', 'A5060317008', 'A5010073218', 'A5023214614', 'A5004461960', 'A5087505685', 'A5006922229', 'A5053837772', 'A5016136590', 'A5035965543', 'A5021970061', 'A5061965141', 'A5084309272', 'A5061878924', 'A5068871423', 'A5047968746', 'A5040638379', 'A5087670867', 'A5042907272', 'A5035648511', 'A5010490030', 'A5018444527', 'A5018745870', 'A5010731349', 'A5002214758', 'A5010410338', 'A5011609969', 'A5071973453', 'A5043056768', 'A5063488446', 'A5024841378', 'A5078118836', 'A5035555166', 'A5051670826', 'A5010423483', 'A5060672157', 'A5066310608', 'A5000583133', 'A5000447662', 'A5020191664', 'A5006326836', 'A5076793638', 'A5047947883', 'A5052288164', 'A5067165664', 'A5012338780', 'A5047197688', 'A5008569251', 'A5063148530', 'A5000140197', 'A5072438854', 'A5027952562', 'A5038318396', 'A5064619721', 'A5009607086', 'A5005019913', 'A5035289249', 'A5082980015', 'A5066012657', 'A5080983786', 'A5016757843', 'A5012851832', 'A5027399495', 'A5008213767', 'A5091691173', 'A5047733466', 'A5006106551', 'A5010869903', 'A5069190717', 'A5085484351', 'A5018593225', 'A5042987444', 'A5101796508', 'A5031236595', 'A5030657327', 'A5052254898', 'A5000057761', 'A5029792542', 'A5020235955', 'A5005969246', 'A5001063870', 'A5046021681', 'A5090601638', 'A5072288045', 'A5004434174', 'A5049323067', 'A5033007775', 'A5066655476', 'A5011761859', 'A5057032605', 'A5080892598', 'A5021252435', 'A5054234139', 'A5037855235', 'A5004327143', 'A5019263602', 'A5068969835', 'A5026922268', 'A5020725729', 'A5070243774', 'A5073058656', 'A5057883121', 'A5060918533', 'A5006052158', 'A5082942140', 'A5012612879', 'A5069646957', 'A5032131300', 'A5038975596', 'A5048968559', 'A5032216557', 'A5007113074', 'A5035671529', 'A5085055895', 'A5040051282', 'A5011040310', 'A5005024696', 'A5017514510', 'A5021212312', 'A5062772629', 'A5065986352', 'A5015504097', 'A5012692106', 'A5012381074', 'A5051287042', 'A5043385419', 'A5052199293', 'A5042569271', 'A5042766025', 'A5079160748', 'A5011388605', 'A5039992864', 'A5032840373', 'A5045127762', 'A5035682280', 'A5002344200', 'A5090231856', 'A5040594506', 'A5089996866', 'A5035388312', 'A5084468073', 'A5062208476', 'A5081957918', 'A5072426521', 'A5035227367', 'A5027161825', 'A5025534840', 'A5025630415', 'A5078294323', 'A5048819665', 'A5003584140', 'A5029147023', 'A5077937147', 'A5009064591', 'A5029586142', 'A5037685205', 'A5009339880', 'A5065814189', 'A5086908622', 'A5018148576', 'A5080220272', 'A5013826168', 'A5011968334', 'A5046740619', 'A5029314665', 'A5056615439', 'A5049765168', 'A5025289082', 'A5003355859', 'A5012531149', 'A5051417360', 'A5081110197', 'A5087769954', 'A5021611872', 'A5064568279', 'A5022040846', 'A5090466398', 'A5015491467', 'A5049724662', 'A5014181607', 'A5086661918', 'A5053927097', 'A5042186303', 'A5034570838', 'A5054721771', 'A5078927714', 'A5079945628', 'A5014186621', 'A5074673905', 'A5011898000', 'A5025096488', 'A5026012238', 'A5045702424', 'A5077881406']\n",
      "1481\n",
      "1481\n"
     ]
    }
   ],
   "source": [
    "print(ppgcc_subgraph)\n",
    "print(len(authors_data))\n",
    "print(len(ppgcc_subgraph))"
   ]
  },
  {
   "cell_type": "code",
   "execution_count": null,
   "metadata": {},
   "outputs": [],
   "source": []
  }
 ],
 "metadata": {
  "kernelspec": {
   "display_name": "icisco",
   "language": "python",
   "name": "python3"
  },
  "language_info": {
   "codemirror_mode": {
    "name": "ipython",
    "version": 3
   },
   "file_extension": ".py",
   "mimetype": "text/x-python",
   "name": "python",
   "nbconvert_exporter": "python",
   "pygments_lexer": "ipython3",
   "version": "3.8.10"
  }
 },
 "nbformat": 4,
 "nbformat_minor": 2
}
