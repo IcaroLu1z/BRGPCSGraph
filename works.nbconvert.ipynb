{
 "cells": [
  {
   "cell_type": "code",
   "execution_count": 1,
   "metadata": {
    "execution": {
     "iopub.execute_input": "2024-02-13T02:58:07.072319Z",
     "iopub.status.busy": "2024-02-13T02:58:07.071429Z",
     "iopub.status.idle": "2024-02-13T02:58:09.078364Z",
     "shell.execute_reply": "2024-02-13T02:58:09.077882Z"
    }
   },
   "outputs": [
    {
     "name": "stderr",
     "output_type": "stream",
     "text": [
      "/media/work/icarovasconcelos/env/icisco/lib/python3.8/site-packages/tqdm/auto.py:21: TqdmWarning: IProgress not found. Please update jupyter and ipywidgets. See https://ipywidgets.readthedocs.io/en/stable/user_install.html\n",
      "  from .autonotebook import tqdm as notebook_tqdm\n"
     ]
    }
   ],
   "source": [
    "import pandas as pd\n",
    "import networkx as nx\n",
    "from node2vec import Node2Vec\n",
    "from sklearn.cluster import KMeans\n",
    "import json\n",
    "\n",
    "import matplotlib.pyplot as plt\n",
    "import seaborn as sns\n",
    "\n",
    "import requests\n",
    "import concurrent.futures\n",
    "from concurrent.futures import ThreadPoolExecutor"
   ]
  },
  {
   "cell_type": "code",
   "execution_count": 2,
   "metadata": {
    "execution": {
     "iopub.execute_input": "2024-02-13T02:58:09.080472Z",
     "iopub.status.busy": "2024-02-13T02:58:09.080221Z",
     "iopub.status.idle": "2024-02-13T02:58:09.106625Z",
     "shell.execute_reply": "2024-02-13T02:58:09.106206Z"
    }
   },
   "outputs": [
    {
     "data": {
      "text/html": [
       "<div>\n",
       "<style scoped>\n",
       "    .dataframe tbody tr th:only-of-type {\n",
       "        vertical-align: middle;\n",
       "    }\n",
       "\n",
       "    .dataframe tbody tr th {\n",
       "        vertical-align: top;\n",
       "    }\n",
       "\n",
       "    .dataframe thead th {\n",
       "        text-align: right;\n",
       "    }\n",
       "</style>\n",
       "<table border=\"1\" class=\"dataframe\">\n",
       "  <thead>\n",
       "    <tr style=\"text-align: right;\">\n",
       "      <th></th>\n",
       "      <th>ano_calendario</th>\n",
       "      <th>ppg_codigo</th>\n",
       "      <th>ppg_nome</th>\n",
       "      <th>ppg_nota</th>\n",
       "      <th>institution_id</th>\n",
       "      <th>ies_sigla</th>\n",
       "      <th>nome_docente</th>\n",
       "      <th>doutorado_ano</th>\n",
       "      <th>regime_trabalho</th>\n",
       "      <th>carga_horaria</th>\n",
       "      <th>link_do_lattes</th>\n",
       "      <th>author_id</th>\n",
       "      <th>bolsista_produtividade</th>\n",
       "      <th>extrato_bolsa_produtividade</th>\n",
       "      <th>doutorado_institution_id</th>\n",
       "      <th>doutorado_institution_name</th>\n",
       "      <th>doutorado_ppg_codigo</th>\n",
       "      <th>doutorado_supervisor_id</th>\n",
       "      <th>doutorado_supervisor_name</th>\n",
       "    </tr>\n",
       "  </thead>\n",
       "  <tbody>\n",
       "    <tr>\n",
       "      <th>0</th>\n",
       "      <td>2022</td>\n",
       "      <td>42005019016P8</td>\n",
       "      <td>CC</td>\n",
       "      <td>7</td>\n",
       "      <td>I45643870</td>\n",
       "      <td>PUC/RS</td>\n",
       "      <td>TIAGO COELHO FERRETO</td>\n",
       "      <td>2010</td>\n",
       "      <td>Integral</td>\n",
       "      <td>40</td>\n",
       "      <td>http://lattes.cnpq.br/8685431534934812</td>\n",
       "      <td>A5009859711</td>\n",
       "      <td>VERDADEIRO</td>\n",
       "      <td>DT2</td>\n",
       "      <td>I45643870</td>\n",
       "      <td>Pontifícia Universidade Católica do Rio Grande...</td>\n",
       "      <td>31005012004P9</td>\n",
       "      <td>A5071130875</td>\n",
       "      <td>César Augusto Fonticielha De Rose</td>\n",
       "    </tr>\n",
       "    <tr>\n",
       "      <th>1</th>\n",
       "      <td>2022</td>\n",
       "      <td>42005019016P8</td>\n",
       "      <td>CC</td>\n",
       "      <td>7</td>\n",
       "      <td>I45643870</td>\n",
       "      <td>PUC/RS</td>\n",
       "      <td>SORAIA RAUPP MUSSE</td>\n",
       "      <td>2000</td>\n",
       "      <td>Integral</td>\n",
       "      <td>40</td>\n",
       "      <td>http://lattes.cnpq.br/2302314954133011</td>\n",
       "      <td>A5059434669</td>\n",
       "      <td>VERDADEIRO</td>\n",
       "      <td>PQ1C</td>\n",
       "      <td>I5124864</td>\n",
       "      <td>École polytechnique fédérale de Lausanne</td>\n",
       "      <td>NaN</td>\n",
       "      <td>A5005709068</td>\n",
       "      <td>Dr Daniel Thalmann</td>\n",
       "    </tr>\n",
       "    <tr>\n",
       "      <th>2</th>\n",
       "      <td>2022</td>\n",
       "      <td>42005019016P8</td>\n",
       "      <td>CC</td>\n",
       "      <td>7</td>\n",
       "      <td>I45643870</td>\n",
       "      <td>PUC/RS</td>\n",
       "      <td>SABRINA DOS SANTOS MARCZAK</td>\n",
       "      <td>2011</td>\n",
       "      <td>Integral</td>\n",
       "      <td>40</td>\n",
       "      <td>http://lattes.cnpq.br/9458496222461501</td>\n",
       "      <td>A5014651524</td>\n",
       "      <td>VERDADEIRO</td>\n",
       "      <td>PQ2</td>\n",
       "      <td>I212119943</td>\n",
       "      <td>University of Victoria</td>\n",
       "      <td>NaN</td>\n",
       "      <td>A5007049054</td>\n",
       "      <td>Daniela Damian</td>\n",
       "    </tr>\n",
       "    <tr>\n",
       "      <th>3</th>\n",
       "      <td>2022</td>\n",
       "      <td>42005019016P8</td>\n",
       "      <td>CC</td>\n",
       "      <td>7</td>\n",
       "      <td>I45643870</td>\n",
       "      <td>PUC/RS</td>\n",
       "      <td>RODRIGO COELHO BARROS</td>\n",
       "      <td>2013</td>\n",
       "      <td>Integral</td>\n",
       "      <td>20</td>\n",
       "      <td>http://lattes.cnpq.br/8172124241767828</td>\n",
       "      <td>A5039629929</td>\n",
       "      <td>VERDADEIRO</td>\n",
       "      <td>PQ2</td>\n",
       "      <td>I17974374</td>\n",
       "      <td>Universidade de São Paulo</td>\n",
       "      <td>33002045004P1</td>\n",
       "      <td>A5079499583</td>\n",
       "      <td>André Carlos Ponce de Leon Ferreira de Carvalho</td>\n",
       "    </tr>\n",
       "    <tr>\n",
       "      <th>4</th>\n",
       "      <td>2022</td>\n",
       "      <td>42005019016P8</td>\n",
       "      <td>CC</td>\n",
       "      <td>7</td>\n",
       "      <td>I45643870</td>\n",
       "      <td>PUC/RS</td>\n",
       "      <td>RAFAEL PRIKLADNICKI</td>\n",
       "      <td>2009</td>\n",
       "      <td>Integral</td>\n",
       "      <td>40</td>\n",
       "      <td>http://lattes.cnpq.br/2007065934836962</td>\n",
       "      <td>A5024645888</td>\n",
       "      <td>VERDADEIRO</td>\n",
       "      <td>PQ1D</td>\n",
       "      <td>I45643870</td>\n",
       "      <td>Pontifícia Universidade Católica do Rio Grande...</td>\n",
       "      <td>31005012004P9</td>\n",
       "      <td>A5022404709</td>\n",
       "      <td>Jorge Luis Nicolas Audy</td>\n",
       "    </tr>\n",
       "  </tbody>\n",
       "</table>\n",
       "</div>"
      ],
      "text/plain": [
       "   ano_calendario     ppg_codigo ppg_nome  ppg_nota institution_id ies_sigla  \\\n",
       "0            2022  42005019016P8       CC         7      I45643870    PUC/RS   \n",
       "1            2022  42005019016P8       CC         7      I45643870    PUC/RS   \n",
       "2            2022  42005019016P8       CC         7      I45643870    PUC/RS   \n",
       "3            2022  42005019016P8       CC         7      I45643870    PUC/RS   \n",
       "4            2022  42005019016P8       CC         7      I45643870    PUC/RS   \n",
       "\n",
       "                 nome_docente  doutorado_ano regime_trabalho  carga_horaria  \\\n",
       "0        TIAGO COELHO FERRETO           2010        Integral             40   \n",
       "1          SORAIA RAUPP MUSSE           2000        Integral             40   \n",
       "2  SABRINA DOS SANTOS MARCZAK           2011        Integral             40   \n",
       "3       RODRIGO COELHO BARROS           2013        Integral             20   \n",
       "4         RAFAEL PRIKLADNICKI           2009        Integral             40   \n",
       "\n",
       "                           link_do_lattes    author_id bolsista_produtividade  \\\n",
       "0  http://lattes.cnpq.br/8685431534934812  A5009859711             VERDADEIRO   \n",
       "1  http://lattes.cnpq.br/2302314954133011  A5059434669             VERDADEIRO   \n",
       "2  http://lattes.cnpq.br/9458496222461501  A5014651524             VERDADEIRO   \n",
       "3  http://lattes.cnpq.br/8172124241767828  A5039629929             VERDADEIRO   \n",
       "4  http://lattes.cnpq.br/2007065934836962  A5024645888             VERDADEIRO   \n",
       "\n",
       "  extrato_bolsa_produtividade doutorado_institution_id  \\\n",
       "0                         DT2                I45643870   \n",
       "1                        PQ1C                 I5124864   \n",
       "2                         PQ2               I212119943   \n",
       "3                         PQ2                I17974374   \n",
       "4                        PQ1D                I45643870   \n",
       "\n",
       "                          doutorado_institution_name doutorado_ppg_codigo  \\\n",
       "0  Pontifícia Universidade Católica do Rio Grande...        31005012004P9   \n",
       "1           École polytechnique fédérale de Lausanne                  NaN   \n",
       "2                             University of Victoria                  NaN   \n",
       "3                          Universidade de São Paulo        33002045004P1   \n",
       "4  Pontifícia Universidade Católica do Rio Grande...        31005012004P9   \n",
       "\n",
       "  doutorado_supervisor_id                        doutorado_supervisor_name  \n",
       "0             A5071130875                César Augusto Fonticielha De Rose  \n",
       "1             A5005709068                               Dr Daniel Thalmann  \n",
       "2             A5007049054                                   Daniela Damian  \n",
       "3             A5079499583  André Carlos Ponce de Leon Ferreira de Carvalho  \n",
       "4             A5022404709                          Jorge Luis Nicolas Audy  "
      ]
     },
     "execution_count": 2,
     "metadata": {},
     "output_type": "execute_result"
    }
   ],
   "source": [
    "ppg_data = pd.read_csv('/media/work/icarovasconcelos/mono/authors-ppg7-6.csv')\n",
    "ppg_data.head()"
   ]
  },
  {
   "cell_type": "code",
   "execution_count": 3,
   "metadata": {
    "execution": {
     "iopub.execute_input": "2024-02-13T02:58:09.108192Z",
     "iopub.status.busy": "2024-02-13T02:58:09.108068Z",
     "iopub.status.idle": "2024-02-13T02:58:09.113790Z",
     "shell.execute_reply": "2024-02-13T02:58:09.113482Z"
    }
   },
   "outputs": [
    {
     "name": "stdout",
     "output_type": "stream",
     "text": [
      "<class 'pandas.core.frame.DataFrame'>\n",
      "RangeIndex: 504 entries, 0 to 503\n",
      "Data columns (total 19 columns):\n",
      " #   Column                       Non-Null Count  Dtype \n",
      "---  ------                       --------------  ----- \n",
      " 0   ano_calendario               504 non-null    int64 \n",
      " 1   ppg_codigo                   504 non-null    object\n",
      " 2   ppg_nome                     504 non-null    object\n",
      " 3   ppg_nota                     504 non-null    int64 \n",
      " 4   institution_id               504 non-null    object\n",
      " 5   ies_sigla                    504 non-null    object\n",
      " 6   nome_docente                 504 non-null    object\n",
      " 7   doutorado_ano                504 non-null    int64 \n",
      " 8   regime_trabalho              504 non-null    object\n",
      " 9   carga_horaria                504 non-null    int64 \n",
      " 10  link_do_lattes               504 non-null    object\n",
      " 11  author_id                    498 non-null    object\n",
      " 12  bolsista_produtividade       504 non-null    object\n",
      " 13  extrato_bolsa_produtividade  277 non-null    object\n",
      " 14  doutorado_institution_id     502 non-null    object\n",
      " 15  doutorado_institution_name   504 non-null    object\n",
      " 16  doutorado_ppg_codigo         261 non-null    object\n",
      " 17  doutorado_supervisor_id      489 non-null    object\n",
      " 18  doutorado_supervisor_name    504 non-null    object\n",
      "dtypes: int64(4), object(15)\n",
      "memory usage: 74.9+ KB\n"
     ]
    }
   ],
   "source": [
    "ppg_data.info()"
   ]
  },
  {
   "cell_type": "code",
   "execution_count": 4,
   "metadata": {
    "execution": {
     "iopub.execute_input": "2024-02-13T02:58:09.115306Z",
     "iopub.status.busy": "2024-02-13T02:58:09.115184Z",
     "iopub.status.idle": "2024-02-13T02:58:09.118249Z",
     "shell.execute_reply": "2024-02-13T02:58:09.117953Z"
    }
   },
   "outputs": [],
   "source": [
    "ppg_data = ppg_data.dropna(subset=['author_id'])\n"
   ]
  },
  {
   "cell_type": "code",
   "execution_count": 5,
   "metadata": {
    "execution": {
     "iopub.execute_input": "2024-02-13T02:58:09.119759Z",
     "iopub.status.busy": "2024-02-13T02:58:09.119619Z",
     "iopub.status.idle": "2024-02-13T02:58:09.124550Z",
     "shell.execute_reply": "2024-02-13T02:58:09.124210Z"
    }
   },
   "outputs": [
    {
     "name": "stdout",
     "output_type": "stream",
     "text": [
      "<class 'pandas.core.frame.DataFrame'>\n",
      "Index: 498 entries, 0 to 503\n",
      "Data columns (total 19 columns):\n",
      " #   Column                       Non-Null Count  Dtype \n",
      "---  ------                       --------------  ----- \n",
      " 0   ano_calendario               498 non-null    int64 \n",
      " 1   ppg_codigo                   498 non-null    object\n",
      " 2   ppg_nome                     498 non-null    object\n",
      " 3   ppg_nota                     498 non-null    int64 \n",
      " 4   institution_id               498 non-null    object\n",
      " 5   ies_sigla                    498 non-null    object\n",
      " 6   nome_docente                 498 non-null    object\n",
      " 7   doutorado_ano                498 non-null    int64 \n",
      " 8   regime_trabalho              498 non-null    object\n",
      " 9   carga_horaria                498 non-null    int64 \n",
      " 10  link_do_lattes               498 non-null    object\n",
      " 11  author_id                    498 non-null    object\n",
      " 12  bolsista_produtividade       498 non-null    object\n",
      " 13  extrato_bolsa_produtividade  276 non-null    object\n",
      " 14  doutorado_institution_id     496 non-null    object\n",
      " 15  doutorado_institution_name   498 non-null    object\n",
      " 16  doutorado_ppg_codigo         256 non-null    object\n",
      " 17  doutorado_supervisor_id      484 non-null    object\n",
      " 18  doutorado_supervisor_name    498 non-null    object\n",
      "dtypes: int64(4), object(15)\n",
      "memory usage: 77.8+ KB\n"
     ]
    }
   ],
   "source": [
    "ppg_data.info()"
   ]
  },
  {
   "cell_type": "code",
   "execution_count": 6,
   "metadata": {
    "execution": {
     "iopub.execute_input": "2024-02-13T02:58:09.126060Z",
     "iopub.status.busy": "2024-02-13T02:58:09.125920Z",
     "iopub.status.idle": "2024-02-13T02:58:09.128300Z",
     "shell.execute_reply": "2024-02-13T02:58:09.128003Z"
    }
   },
   "outputs": [],
   "source": [
    "ppg_data = ppg_data.fillna(\"null\")\n"
   ]
  },
  {
   "cell_type": "code",
   "execution_count": 7,
   "metadata": {
    "execution": {
     "iopub.execute_input": "2024-02-13T02:58:09.129875Z",
     "iopub.status.busy": "2024-02-13T02:58:09.129737Z",
     "iopub.status.idle": "2024-02-13T02:58:09.135016Z",
     "shell.execute_reply": "2024-02-13T02:58:09.134697Z"
    }
   },
   "outputs": [
    {
     "name": "stdout",
     "output_type": "stream",
     "text": [
      "<class 'pandas.core.frame.DataFrame'>\n",
      "Index: 498 entries, 0 to 503\n",
      "Data columns (total 19 columns):\n",
      " #   Column                       Non-Null Count  Dtype \n",
      "---  ------                       --------------  ----- \n",
      " 0   ano_calendario               498 non-null    int64 \n",
      " 1   ppg_codigo                   498 non-null    object\n",
      " 2   ppg_nome                     498 non-null    object\n",
      " 3   ppg_nota                     498 non-null    int64 \n",
      " 4   institution_id               498 non-null    object\n",
      " 5   ies_sigla                    498 non-null    object\n",
      " 6   nome_docente                 498 non-null    object\n",
      " 7   doutorado_ano                498 non-null    int64 \n",
      " 8   regime_trabalho              498 non-null    object\n",
      " 9   carga_horaria                498 non-null    int64 \n",
      " 10  link_do_lattes               498 non-null    object\n",
      " 11  author_id                    498 non-null    object\n",
      " 12  bolsista_produtividade       498 non-null    object\n",
      " 13  extrato_bolsa_produtividade  498 non-null    object\n",
      " 14  doutorado_institution_id     498 non-null    object\n",
      " 15  doutorado_institution_name   498 non-null    object\n",
      " 16  doutorado_ppg_codigo         498 non-null    object\n",
      " 17  doutorado_supervisor_id      498 non-null    object\n",
      " 18  doutorado_supervisor_name    498 non-null    object\n",
      "dtypes: int64(4), object(15)\n",
      "memory usage: 77.8+ KB\n"
     ]
    }
   ],
   "source": [
    "ppg_data.info()"
   ]
  },
  {
   "cell_type": "code",
   "execution_count": 8,
   "metadata": {
    "execution": {
     "iopub.execute_input": "2024-02-13T02:58:09.136549Z",
     "iopub.status.busy": "2024-02-13T02:58:09.136376Z",
     "iopub.status.idle": "2024-02-13T02:58:09.138875Z",
     "shell.execute_reply": "2024-02-13T02:58:09.138562Z"
    }
   },
   "outputs": [],
   "source": [
    "ppg_data.drop_duplicates(subset=['author_id'], inplace=True)"
   ]
  },
  {
   "cell_type": "code",
   "execution_count": 9,
   "metadata": {
    "execution": {
     "iopub.execute_input": "2024-02-13T02:58:09.140386Z",
     "iopub.status.busy": "2024-02-13T02:58:09.140245Z",
     "iopub.status.idle": "2024-02-13T02:58:09.145678Z",
     "shell.execute_reply": "2024-02-13T02:58:09.145358Z"
    }
   },
   "outputs": [
    {
     "name": "stdout",
     "output_type": "stream",
     "text": [
      "<class 'pandas.core.frame.DataFrame'>\n",
      "Index: 491 entries, 0 to 503\n",
      "Data columns (total 19 columns):\n",
      " #   Column                       Non-Null Count  Dtype \n",
      "---  ------                       --------------  ----- \n",
      " 0   ano_calendario               491 non-null    int64 \n",
      " 1   ppg_codigo                   491 non-null    object\n",
      " 2   ppg_nome                     491 non-null    object\n",
      " 3   ppg_nota                     491 non-null    int64 \n",
      " 4   institution_id               491 non-null    object\n",
      " 5   ies_sigla                    491 non-null    object\n",
      " 6   nome_docente                 491 non-null    object\n",
      " 7   doutorado_ano                491 non-null    int64 \n",
      " 8   regime_trabalho              491 non-null    object\n",
      " 9   carga_horaria                491 non-null    int64 \n",
      " 10  link_do_lattes               491 non-null    object\n",
      " 11  author_id                    491 non-null    object\n",
      " 12  bolsista_produtividade       491 non-null    object\n",
      " 13  extrato_bolsa_produtividade  491 non-null    object\n",
      " 14  doutorado_institution_id     491 non-null    object\n",
      " 15  doutorado_institution_name   491 non-null    object\n",
      " 16  doutorado_ppg_codigo         491 non-null    object\n",
      " 17  doutorado_supervisor_id      491 non-null    object\n",
      " 18  doutorado_supervisor_name    491 non-null    object\n",
      "dtypes: int64(4), object(15)\n",
      "memory usage: 76.7+ KB\n"
     ]
    }
   ],
   "source": [
    "ppg_data.info()"
   ]
  },
  {
   "cell_type": "code",
   "execution_count": 10,
   "metadata": {
    "execution": {
     "iopub.execute_input": "2024-02-13T02:58:09.147204Z",
     "iopub.status.busy": "2024-02-13T02:58:09.147067Z",
     "iopub.status.idle": "2024-02-13T02:58:09.149630Z",
     "shell.execute_reply": "2024-02-13T02:58:09.149322Z"
    },
    "tags": []
   },
   "outputs": [
    {
     "data": {
      "text/plain": [
       "'works_by_author_dict = {}\\n\\nfor author_id in ppg_data[\\'author_id\\']:\\n    url = f\\'https://api.openalex.org/works?filter=author.id:{author_id},from_publication_date:2004-01-01\\'\\n    response = requests.get(url)\\n    data = response.json()\\n    works_by_author_dict[author_id] = data\\n\\nn = 0\\nfor w in works_by_author_dict.keys():\\n    print(f\\'Author: {w} | Works: {works_by_author_dict[w][\"meta\"][\"count\"]}\\')\\n    n += works_by_author_dict[w][\"meta\"][\"count\"]\\n\\nprint(f\\'Total works: {n}\\')'"
      ]
     },
     "execution_count": 10,
     "metadata": {},
     "output_type": "execute_result"
    }
   ],
   "source": [
    "'''works_by_author_dict = {}\n",
    "\n",
    "for author_id in ppg_data['author_id']:\n",
    "    url = f'https://api.openalex.org/works?filter=author.id:{author_id},from_publication_date:2004-01-01'\n",
    "    response = requests.get(url)\n",
    "    data = response.json()\n",
    "    works_by_author_dict[author_id] = data\n",
    "\n",
    "n = 0\n",
    "for w in works_by_author_dict.keys():\n",
    "    print(f'Author: {w} | Works: {works_by_author_dict[w][\"meta\"][\"count\"]}')\n",
    "    n += works_by_author_dict[w][\"meta\"][\"count\"]\n",
    "\n",
    "print(f'Total works: {n}')'''"
   ]
  },
  {
   "cell_type": "code",
   "execution_count": 11,
   "metadata": {
    "execution": {
     "iopub.execute_input": "2024-02-13T02:58:09.151114Z",
     "iopub.status.busy": "2024-02-13T02:58:09.150994Z",
     "iopub.status.idle": "2024-02-13T02:58:09.153506Z",
     "shell.execute_reply": "2024-02-13T02:58:09.153209Z"
    }
   },
   "outputs": [],
   "source": [
    "ppg_data = ppg_data[ppg_data['author_id'] != 'A5012278873']"
   ]
  },
  {
   "cell_type": "code",
   "execution_count": 12,
   "metadata": {
    "execution": {
     "iopub.execute_input": "2024-02-13T02:58:09.155011Z",
     "iopub.status.busy": "2024-02-13T02:58:09.154872Z",
     "iopub.status.idle": "2024-02-13T02:58:09.160188Z",
     "shell.execute_reply": "2024-02-13T02:58:09.159871Z"
    }
   },
   "outputs": [
    {
     "name": "stdout",
     "output_type": "stream",
     "text": [
      "<class 'pandas.core.frame.DataFrame'>\n",
      "Index: 490 entries, 0 to 503\n",
      "Data columns (total 19 columns):\n",
      " #   Column                       Non-Null Count  Dtype \n",
      "---  ------                       --------------  ----- \n",
      " 0   ano_calendario               490 non-null    int64 \n",
      " 1   ppg_codigo                   490 non-null    object\n",
      " 2   ppg_nome                     490 non-null    object\n",
      " 3   ppg_nota                     490 non-null    int64 \n",
      " 4   institution_id               490 non-null    object\n",
      " 5   ies_sigla                    490 non-null    object\n",
      " 6   nome_docente                 490 non-null    object\n",
      " 7   doutorado_ano                490 non-null    int64 \n",
      " 8   regime_trabalho              490 non-null    object\n",
      " 9   carga_horaria                490 non-null    int64 \n",
      " 10  link_do_lattes               490 non-null    object\n",
      " 11  author_id                    490 non-null    object\n",
      " 12  bolsista_produtividade       490 non-null    object\n",
      " 13  extrato_bolsa_produtividade  490 non-null    object\n",
      " 14  doutorado_institution_id     490 non-null    object\n",
      " 15  doutorado_institution_name   490 non-null    object\n",
      " 16  doutorado_ppg_codigo         490 non-null    object\n",
      " 17  doutorado_supervisor_id      490 non-null    object\n",
      " 18  doutorado_supervisor_name    490 non-null    object\n",
      "dtypes: int64(4), object(15)\n",
      "memory usage: 76.6+ KB\n"
     ]
    }
   ],
   "source": [
    "ppg_data.info()"
   ]
  },
  {
   "cell_type": "code",
   "execution_count": 13,
   "metadata": {
    "execution": {
     "iopub.execute_input": "2024-02-13T02:58:09.161713Z",
     "iopub.status.busy": "2024-02-13T02:58:09.161575Z",
     "iopub.status.idle": "2024-02-13T03:46:42.445303Z",
     "shell.execute_reply": "2024-02-13T03:46:42.443695Z"
    }
   },
   "outputs": [
    {
     "name": "stdout",
     "output_type": "stream",
     "text": [
      "5 api requests made so far\n"
     ]
    },
    {
     "name": "stdout",
     "output_type": "stream",
     "text": [
      "10 api requests made so far\n"
     ]
    },
    {
     "name": "stdout",
     "output_type": "stream",
     "text": [
      "20 api requests made so far\n"
     ]
    },
    {
     "name": "stdout",
     "output_type": "stream",
     "text": [
      "50 api requests made so far\n"
     ]
    },
    {
     "name": "stdout",
     "output_type": "stream",
     "text": [
      "100 api requests made so far\n"
     ]
    },
    {
     "name": "stdout",
     "output_type": "stream",
     "text": [
      "500 api requests made so far\n"
     ]
    },
    {
     "name": "stdout",
     "output_type": "stream",
     "text": [
      "1000 api requests made so far\n"
     ]
    },
    {
     "name": "stdout",
     "output_type": "stream",
     "text": [
      "1500 api requests made so far\n"
     ]
    },
    {
     "name": "stdout",
     "output_type": "stream",
     "text": [
      "2000 api requests made so far\n"
     ]
    },
    {
     "name": "stdout",
     "output_type": "stream",
     "text": [
      "2500 api requests made so far\n"
     ]
    },
    {
     "name": "stdout",
     "output_type": "stream",
     "text": [
      "3000 api requests made so far\n"
     ]
    },
    {
     "name": "stdout",
     "output_type": "stream",
     "text": [
      "done. made 3098 api requests. collected 59093 works\n"
     ]
    }
   ],
   "source": [
    "cursor = '*'\n",
    "\n",
    "select = \",\".join((\n",
    "    'id',\n",
    "    'ids',\n",
    "    'title',\n",
    "    'display_name',\n",
    "    'publication_year',\n",
    "    'publication_date',\n",
    "    'primary_location',\n",
    "    'open_access',\n",
    "    'authorships',\n",
    "    'cited_by_count',\n",
    "    'is_retracted',\n",
    "    'is_paratext',\n",
    "    'updated_date',\n",
    "    'created_date',\n",
    "    'concepts',\n",
    "\n",
    "))\n",
    "\n",
    "n_works = 0\n",
    "calls = 0\n",
    "works = []\n",
    "try:\n",
    "    for author_id in ppg_data['author_id']:\n",
    "        url = f'https://api.openalex.org/works?filter=author.id:{author_id},from_publication_date:2004-01-01'\n",
    "        # loop through pages\n",
    "        cursor = '*'\n",
    "        while cursor:\n",
    "            # set cursor value and request page from OpenAlex\n",
    "            url_1 = f'{url}&select={select}&cursor={cursor}'\n",
    "            page_with_results = requests.get(url_1).json()\n",
    "\n",
    "            results = page_with_results['results']\n",
    "            works.extend(results)\n",
    "            n_works += len(works)\n",
    "            # update cursor to meta.next_cursor\n",
    "            cursor = page_with_results['meta']['next_cursor']\n",
    "            calls += 1\n",
    "            if calls in [5, 10, 20, 50, 100] or calls % 500 == 0:\n",
    "                print(f'{calls} api requests made so far')\n",
    "\n",
    "    print(f'done. made {calls} api requests. collected {len(works)} works')\n",
    "\n",
    "except Exception as e:\n",
    "    print(f'An exception occurred: {str(e)}')\n",
    "\n",
    "with open('works_since_2004.json', 'w') as f:\n",
    "    json.dump(works, f)"
   ]
  },
  {
   "cell_type": "code",
   "execution_count": 14,
   "metadata": {
    "execution": {
     "iopub.execute_input": "2024-02-13T03:46:42.451079Z",
     "iopub.status.busy": "2024-02-13T03:46:42.450616Z",
     "iopub.status.idle": "2024-02-13T03:46:53.509175Z",
     "shell.execute_reply": "2024-02-13T03:46:53.506692Z"
    }
   },
   "outputs": [],
   "source": [
    "data = []\n",
    "for work in works:\n",
    "    for authorship in work['authorships']:\n",
    "        if authorship:\n",
    "            author = authorship['author']\n",
    "            author_id = author['id'].split('/')[-1] if author else None\n",
    "            author_name = author['display_name'] if author else None\n",
    "            author_position = authorship['author_position']\n",
    "            for institution in authorship['institutions']:\n",
    "                if institution:\n",
    "                    institution_id = institution['id'].split('/')[-1]\n",
    "                    institution_name = institution['display_name']\n",
    "                    institution_country_code = institution['country_code']\n",
    "                    concept_name = work['concepts'][0]['display_name'] if 'concepts' in work and work['concepts'] else None\n",
    "                    data.append({\n",
    "                        'work_id': work['id'].split('/')[-1],\n",
    "                        'work_title': work['title'],\n",
    "                        'work_display_name': work['display_name'],\n",
    "                        'work_publication_year': work['publication_year'],\n",
    "                        'work_publication_date': work['publication_date'],\n",
    "                        'author_id': author_id,\n",
    "                        'author_name': author_name,\n",
    "                        'author_position': author_position,\n",
    "                        'institution_id': institution_id,\n",
    "                        'institution_name': institution_name,\n",
    "                        'institution_country_code': institution_country_code,\n",
    "                        'concept_name': concept_name,\n",
    "                    })\n",
    "                    \n",
    "df_works = pd.DataFrame(data)\n",
    "df_works.to_csv('7&6ppg_works_since_2004.csv', index=False)"
   ]
  },
  {
   "cell_type": "code",
   "execution_count": 15,
   "metadata": {
    "execution": {
     "iopub.execute_input": "2024-02-13T03:46:53.516427Z",
     "iopub.status.busy": "2024-02-13T03:46:53.516263Z",
     "iopub.status.idle": "2024-02-13T03:46:56.369061Z",
     "shell.execute_reply": "2024-02-13T03:46:56.367989Z"
    }
   },
   "outputs": [],
   "source": [
    "works_and_authors = {}            \n",
    "\n",
    "for work in works:\n",
    "    authors_list = []\n",
    "    for authorship in work['authorships']:\n",
    "        if authorship:\n",
    "            author = authorship['author']\n",
    "            author_id = author['id'].split('/')[-1] if author else None\n",
    "            author_name = author['display_name'] if author else None\n",
    "            authors_list.append({\n",
    "                'author_id': author_id,\n",
    "                'author_name': author_name,\n",
    "            })\n",
    "    works_and_authors[work['id'].split('/')[-1]] = authors_list\n",
    "    \n",
    "with open('7&6ppg_works_and_authors_since_2004.json', 'w') as f:\n",
    "    json.dump(works_and_authors, f)"
   ]
  },
  {
   "cell_type": "code",
   "execution_count": 16,
   "metadata": {
    "execution": {
     "iopub.execute_input": "2024-02-13T03:46:56.373168Z",
     "iopub.status.busy": "2024-02-13T03:46:56.372851Z",
     "iopub.status.idle": "2024-02-13T03:46:56.837821Z",
     "shell.execute_reply": "2024-02-13T03:46:56.837370Z"
    }
   },
   "outputs": [
    {
     "data": {
      "text/html": [
       "<div>\n",
       "<style scoped>\n",
       "    .dataframe tbody tr th:only-of-type {\n",
       "        vertical-align: middle;\n",
       "    }\n",
       "\n",
       "    .dataframe tbody tr th {\n",
       "        vertical-align: top;\n",
       "    }\n",
       "\n",
       "    .dataframe thead th {\n",
       "        text-align: right;\n",
       "    }\n",
       "</style>\n",
       "<table border=\"1\" class=\"dataframe\">\n",
       "  <thead>\n",
       "    <tr style=\"text-align: right;\">\n",
       "      <th></th>\n",
       "      <th>work_id</th>\n",
       "      <th>work_title</th>\n",
       "      <th>work_display_name</th>\n",
       "      <th>work_publication_year</th>\n",
       "      <th>work_publication_date</th>\n",
       "      <th>author_id</th>\n",
       "      <th>author_name</th>\n",
       "      <th>author_position</th>\n",
       "      <th>institution_id</th>\n",
       "      <th>institution_name</th>\n",
       "      <th>institution_country_code</th>\n",
       "      <th>concept_name</th>\n",
       "    </tr>\n",
       "  </thead>\n",
       "  <tbody>\n",
       "    <tr>\n",
       "      <th>0</th>\n",
       "      <td>W1984712701</td>\n",
       "      <td>Performance Evaluation of Container-Based Virt...</td>\n",
       "      <td>Performance Evaluation of Container-Based Virt...</td>\n",
       "      <td>2013</td>\n",
       "      <td>2013-02-01</td>\n",
       "      <td>A5065379079</td>\n",
       "      <td>Miguel G. Xavier</td>\n",
       "      <td>first</td>\n",
       "      <td>I45643870</td>\n",
       "      <td>Pontifícia Universidade Católica do Rio Grande...</td>\n",
       "      <td>BR</td>\n",
       "      <td>Virtualization</td>\n",
       "    </tr>\n",
       "    <tr>\n",
       "      <th>1</th>\n",
       "      <td>W1984712701</td>\n",
       "      <td>Performance Evaluation of Container-Based Virt...</td>\n",
       "      <td>Performance Evaluation of Container-Based Virt...</td>\n",
       "      <td>2013</td>\n",
       "      <td>2013-02-01</td>\n",
       "      <td>A5062060864</td>\n",
       "      <td>Marcelo Veiga Neves</td>\n",
       "      <td>middle</td>\n",
       "      <td>I45643870</td>\n",
       "      <td>Pontifícia Universidade Católica do Rio Grande...</td>\n",
       "      <td>BR</td>\n",
       "      <td>Virtualization</td>\n",
       "    </tr>\n",
       "    <tr>\n",
       "      <th>2</th>\n",
       "      <td>W1984712701</td>\n",
       "      <td>Performance Evaluation of Container-Based Virt...</td>\n",
       "      <td>Performance Evaluation of Container-Based Virt...</td>\n",
       "      <td>2013</td>\n",
       "      <td>2013-02-01</td>\n",
       "      <td>A5075787478</td>\n",
       "      <td>Fábio Diniz Rossi</td>\n",
       "      <td>middle</td>\n",
       "      <td>I45643870</td>\n",
       "      <td>Pontifícia Universidade Católica do Rio Grande...</td>\n",
       "      <td>BR</td>\n",
       "      <td>Virtualization</td>\n",
       "    </tr>\n",
       "    <tr>\n",
       "      <th>3</th>\n",
       "      <td>W1984712701</td>\n",
       "      <td>Performance Evaluation of Container-Based Virt...</td>\n",
       "      <td>Performance Evaluation of Container-Based Virt...</td>\n",
       "      <td>2013</td>\n",
       "      <td>2013-02-01</td>\n",
       "      <td>A5009859711</td>\n",
       "      <td>Tiago Ferreto</td>\n",
       "      <td>middle</td>\n",
       "      <td>I45643870</td>\n",
       "      <td>Pontifícia Universidade Católica do Rio Grande...</td>\n",
       "      <td>BR</td>\n",
       "      <td>Virtualization</td>\n",
       "    </tr>\n",
       "    <tr>\n",
       "      <th>4</th>\n",
       "      <td>W1984712701</td>\n",
       "      <td>Performance Evaluation of Container-Based Virt...</td>\n",
       "      <td>Performance Evaluation of Container-Based Virt...</td>\n",
       "      <td>2013</td>\n",
       "      <td>2013-02-01</td>\n",
       "      <td>A5018576433</td>\n",
       "      <td>Timoteo Alberto Peters Lange</td>\n",
       "      <td>middle</td>\n",
       "      <td>I45643870</td>\n",
       "      <td>Pontifícia Universidade Católica do Rio Grande...</td>\n",
       "      <td>BR</td>\n",
       "      <td>Virtualization</td>\n",
       "    </tr>\n",
       "  </tbody>\n",
       "</table>\n",
       "</div>"
      ],
      "text/plain": [
       "       work_id                                         work_title  \\\n",
       "0  W1984712701  Performance Evaluation of Container-Based Virt...   \n",
       "1  W1984712701  Performance Evaluation of Container-Based Virt...   \n",
       "2  W1984712701  Performance Evaluation of Container-Based Virt...   \n",
       "3  W1984712701  Performance Evaluation of Container-Based Virt...   \n",
       "4  W1984712701  Performance Evaluation of Container-Based Virt...   \n",
       "\n",
       "                                   work_display_name  work_publication_year  \\\n",
       "0  Performance Evaluation of Container-Based Virt...                   2013   \n",
       "1  Performance Evaluation of Container-Based Virt...                   2013   \n",
       "2  Performance Evaluation of Container-Based Virt...                   2013   \n",
       "3  Performance Evaluation of Container-Based Virt...                   2013   \n",
       "4  Performance Evaluation of Container-Based Virt...                   2013   \n",
       "\n",
       "  work_publication_date    author_id                   author_name  \\\n",
       "0            2013-02-01  A5065379079              Miguel G. Xavier   \n",
       "1            2013-02-01  A5062060864           Marcelo Veiga Neves   \n",
       "2            2013-02-01  A5075787478             Fábio Diniz Rossi   \n",
       "3            2013-02-01  A5009859711                 Tiago Ferreto   \n",
       "4            2013-02-01  A5018576433  Timoteo Alberto Peters Lange   \n",
       "\n",
       "  author_position institution_id  \\\n",
       "0           first      I45643870   \n",
       "1          middle      I45643870   \n",
       "2          middle      I45643870   \n",
       "3          middle      I45643870   \n",
       "4          middle      I45643870   \n",
       "\n",
       "                                    institution_name institution_country_code  \\\n",
       "0  Pontifícia Universidade Católica do Rio Grande...                       BR   \n",
       "1  Pontifícia Universidade Católica do Rio Grande...                       BR   \n",
       "2  Pontifícia Universidade Católica do Rio Grande...                       BR   \n",
       "3  Pontifícia Universidade Católica do Rio Grande...                       BR   \n",
       "4  Pontifícia Universidade Católica do Rio Grande...                       BR   \n",
       "\n",
       "     concept_name  \n",
       "0  Virtualization  \n",
       "1  Virtualization  \n",
       "2  Virtualization  \n",
       "3  Virtualization  \n",
       "4  Virtualization  "
      ]
     },
     "execution_count": 16,
     "metadata": {},
     "output_type": "execute_result"
    }
   ],
   "source": [
    "df = pd.read_csv('7&6ppg_works_since_2004.csv')\n",
    "df.head()"
   ]
  },
  {
   "cell_type": "code",
   "execution_count": null,
   "metadata": {},
   "outputs": [],
   "source": []
  }
 ],
 "metadata": {
  "kernelspec": {
   "display_name": "icisco",
   "language": "python",
   "name": "python3"
  },
  "language_info": {
   "codemirror_mode": {
    "name": "ipython",
    "version": 3
   },
   "file_extension": ".py",
   "mimetype": "text/x-python",
   "name": "python",
   "nbconvert_exporter": "python",
   "pygments_lexer": "ipython3",
   "version": "3.8.10"
  }
 },
 "nbformat": 4,
 "nbformat_minor": 2
}
